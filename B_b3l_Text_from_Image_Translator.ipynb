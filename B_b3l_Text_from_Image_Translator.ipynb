{
  "nbformat": 4,
  "nbformat_minor": 0,
  "metadata": {
    "colab": {
      "name": "B@b3l Text from Image Translator",
      "provenance": [],
      "collapsed_sections": [],
      "include_colab_link": true
    },
    "kernelspec": {
      "name": "python3",
      "display_name": "Python 3"
    }
  },
  "cells": [
    {
      "cell_type": "markdown",
      "metadata": {
        "id": "view-in-github",
        "colab_type": "text"
      },
      "source": [
        "<a href=\"https://colab.research.google.com/github/bstevens94/Babel/blob/main/B_b3l_Text_from_Image_Translator.ipynb\" target=\"_parent\"><img src=\"https://colab.research.google.com/assets/colab-badge.svg\" alt=\"Open In Colab\"/></a>"
      ]
    },
    {
      "cell_type": "code",
      "source": [
        "                                  .--,-``-.              \n",
        "    ,---,.                       /   /     '.    ,--,    \n",
        "  ,'  .'  \\             ,---,   / ../        ; ,--.'|    \n",
        ",---.' .' |           ,---.'|   \\ ``\\  .`-    '|  | :    \n",
        "|   |  |: |           |   | :    \\___\\/   \\   ::  : '    \n",
        ":   :  :  /  ,--.--.  :   : :         \\   :   ||  ' |    \n",
        ":   |    ;  /       \\ :     |,-.      /  /   / '  | |    \n",
        "|   :     \\.--.  .-. ||   : '  |      \\  \\   \\ |  | :    \n",
        "|   |   . | \\__\\/: . .|   |  / :  ___ /   :   |'  : |__  \n",
        "'   :  '; | ,\" .--.; |'   : |: | /   /\\   /   :|  | '.'| \n",
        "|   |  | ; /  /  ,.  ||   | '/ :/ ,,/  ',-    .;  :    ; \n",
        "|   :   / ;  :   .'   \\   :    |\\ ''\\        ; |  ,   /  \n",
        "|   | ,'  |  ,     .-./    \\  /  \\   \\     .'   ---`-'   \n",
        "`----'     `--`---'   `-'----'    `--`-,,-'              \n",
        "---\n",
        "Results may vary. Godspeed.\n",
        "---\n",
        "---\n",
        "---\n",
        "---\n",
        "A mobile browser friendly image text grabber and text translator \n",
        "---\n",
        "---\n",
        "---\n",
        "Input language detected automatically. Over 100 languages supported for input and output\n",
        "---\n",
        "---\n",
        "---\n",
        "Built using txtai and ntlk\n",
        "---\n",
        "---\n",
        "---\n",
        "Hardware requirements: Ability to open browser and internet\n",
        "---  \n",
        "by Ben S.\n",
        "---\n",
        "(don't press play on this cell obv)"
      ],
      "metadata": {
        "id": "-iM2etgbVVTW"
      },
      "execution_count": null,
      "outputs": []
    },
    {
      "cell_type": "markdown",
      "source": [
        "---\n",
        "---\n",
        "---"
      ],
      "metadata": {
        "id": "qCdHMdb3Vpjk"
      }
    },
    {
      "cell_type": "code",
      "source": [
        "#@title Press play and wait up to five minutes. \n",
        "#@markdown You will be asked for file input from your device shortly. This could take up to ten minutes. { display-mode: \"form\" }\n",
        "\n",
        "from google.colab import files\n",
        "import sys\n",
        "import os\n",
        "import re\n",
        "import IPython\n",
        "from IPython.display import clear_output\n",
        "\n",
        "\n",
        "# clone repo and install nltk\n",
        "\n",
        "!pip install git+https://github.com/neuml/txtai#egg=txtai[pipeline]\n",
        "clear_output()\n",
        "import nltk\n",
        "nltk.download('punkt')\n",
        "clear_output()\n",
        "\n",
        "\n",
        "\n",
        "#Initialize \n",
        "\n",
        "from txtai.pipeline import Textractor\n",
        "from txtai.pipeline import Translation\n",
        "textractor = Textractor()\n",
        "translate = Translation()\n",
        "clear_output()\n",
        "\n",
        "\n",
        "\n",
        "\n",
        "\n",
        "\n",
        "\n",
        "\n",
        "uploaded = files.upload()\n",
        "filename = next(iter(uploaded))\n",
        "print(uploaded)\n",
        "for fn in uploaded.keys():\n",
        "  print('User uploaded file \"{name}\" with length {length} bytes'.format(\n",
        "      name=fn, length=len(uploaded[fn])))"
      ],
      "metadata": {
        "cellView": "form",
        "id": "OPnFrHECHszT"
      },
      "execution_count": null,
      "outputs": []
    },
    {
      "cell_type": "markdown",
      "source": [
        "---\n",
        "---\n",
        "---"
      ],
      "metadata": {
        "id": "-0pTSJv1UrpX"
      }
    },
    {
      "cell_type": "code",
      "source": [
        "from IPython.core.display import clear_output\n",
        "#@title Input your desired language translation by two letter standard language code. { display-mode: \"form\" }\n",
        "#@markdown Then input your previously uploaded file name. Press play when done.  \n",
        "\n",
        "textractor = Textractor(sentences=True)\n",
        "clear_output()\n",
        "\n",
        "Language = \"\" #@param {type: \"string\"}\n",
        "#added specific file name due to instances of multiple translations or uploads.\n",
        "File_Name = \"\" #@param {type: \"string\"}\n",
        "text = textractor(File_Name) \n",
        "clear_output()\n",
        "\n",
        "translated = translate(text, Language)\n",
        "clear_output()\n",
        "#string stuff and print\n",
        "text2 = str(text)\n",
        "translated2 = str(translated)\n",
        "text3 = text2.replace(', ', '\\n')\n",
        "translated3 = translated2.replace(', ', '\\n')\n",
        "clear_output()\n",
        "\n",
        "print('---------------------------------------------------------------')\n",
        "print('---------------------------------------------------------------')\n",
        "print('---------------------------------------------------------------')\n",
        "print('Original Text:')\n",
        "print('---------------------------------------------------------------')\n",
        "print(text3)\n",
        "print('---------------------------------------------------------------')\n",
        "print('---------------------------------------------------------------')\n",
        "print('---------------------------------------------------------------')\n",
        "print('Translated:')\n",
        "print('---------------------------------------------------------------')\n",
        "print(translated3)\n",
        "print('---------------------------------------------------------------')\n",
        "print('---------------------------------------------------------------')\n",
        "print('---------------------------------------------------------------')"
      ],
      "metadata": {
        "id": "9vpeuPfJJ8Rc"
      },
      "execution_count": null,
      "outputs": []
    },
    {
      "cell_type": "markdown",
      "source": [
        "---\n",
        "---\n",
        "---"
      ],
      "metadata": {
        "id": "HagG7XTXUt4E"
      }
    },
    {
      "cell_type": "code",
      "source": [
        "#@title Press Play to download .txt file of original text and translation to your device. { display-mode: \"form\" }\n",
        "#@markdown This is recommended as translations are lost after browser closes. { display-mode: \"form\" }\n",
        "with open('translated.txt', 'w') as f:\n",
        "  f.write('Original:\\n')\n",
        "  f.write(text3 + \"\\n\")\n",
        "  f.write('-----------------------------------------------------------------------\\n')\n",
        "  f.write('Translated:\\n')\n",
        "  f.write(translated3)\n",
        "\n",
        "\n",
        "files.download('translated.txt')"
      ],
      "metadata": {
        "colab": {
          "base_uri": "https://localhost:8080/",
          "height": 17
        },
        "id": "Cy4-pTlhSwDZ",
        "outputId": "566d7f53-0a1f-41be-8f72-5e7b75fe1a7d"
      },
      "execution_count": null,
      "outputs": [
        {
          "output_type": "display_data",
          "data": {
            "application/javascript": [
              "\n",
              "    async function download(id, filename, size) {\n",
              "      if (!google.colab.kernel.accessAllowed) {\n",
              "        return;\n",
              "      }\n",
              "      const div = document.createElement('div');\n",
              "      const label = document.createElement('label');\n",
              "      label.textContent = `Downloading \"${filename}\": `;\n",
              "      div.appendChild(label);\n",
              "      const progress = document.createElement('progress');\n",
              "      progress.max = size;\n",
              "      div.appendChild(progress);\n",
              "      document.body.appendChild(div);\n",
              "\n",
              "      const buffers = [];\n",
              "      let downloaded = 0;\n",
              "\n",
              "      const channel = await google.colab.kernel.comms.open(id);\n",
              "      // Send a message to notify the kernel that we're ready.\n",
              "      channel.send({})\n",
              "\n",
              "      for await (const message of channel.messages) {\n",
              "        // Send a message to notify the kernel that we're ready.\n",
              "        channel.send({})\n",
              "        if (message.buffers) {\n",
              "          for (const buffer of message.buffers) {\n",
              "            buffers.push(buffer);\n",
              "            downloaded += buffer.byteLength;\n",
              "            progress.value = downloaded;\n",
              "          }\n",
              "        }\n",
              "      }\n",
              "      const blob = new Blob(buffers, {type: 'application/binary'});\n",
              "      const a = document.createElement('a');\n",
              "      a.href = window.URL.createObjectURL(blob);\n",
              "      a.download = filename;\n",
              "      div.appendChild(a);\n",
              "      a.click();\n",
              "      div.remove();\n",
              "    }\n",
              "  "
            ],
            "text/plain": [
              "<IPython.core.display.Javascript object>"
            ]
          },
          "metadata": {}
        },
        {
          "output_type": "display_data",
          "data": {
            "application/javascript": [
              "download(\"download_3c5cf7d8-5a2e-4acc-850e-54df1461208e\", \"translated.txt\", 5196)"
            ],
            "text/plain": [
              "<IPython.core.display.Javascript object>"
            ]
          },
          "metadata": {}
        }
      ]
    },
    {
      "cell_type": "markdown",
      "source": [
        "---"
      ],
      "metadata": {
        "id": "DsWetAy1UwHi"
      }
    },
    {
      "cell_type": "markdown",
      "source": [
        "Shoutout to txtai and nltk\n",
        "\n",
        "https://github.com/nltk\n",
        "\n",
        "https://github.com/neuml/txtai "
      ],
      "metadata": {
        "id": "G3Q7aMzKUyLQ"
      }
    }
  ]
}
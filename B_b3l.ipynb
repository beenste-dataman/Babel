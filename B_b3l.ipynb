{
  "nbformat": 4,
  "nbformat_minor": 0,
  "metadata": {
    "colab": {
      "name": " B@b3l",
      "provenance": [],
      "collapsed_sections": [],
      "private_outputs": true,
      "include_colab_link": true
    },
    "kernelspec": {
      "name": "python3",
      "display_name": "Python 3"
    },
    "accelerator": "GPU"
  },
  "cells": [
    {
      "cell_type": "markdown",
      "metadata": {
        "id": "view-in-github",
        "colab_type": "text"
      },
      "source": [
        "<a href=\"https://colab.research.google.com/github/bstevens94/Babel/blob/main/B_b3l.ipynb\" target=\"_parent\"><img src=\"https://colab.research.google.com/assets/colab-badge.svg\" alt=\"Open In Colab\"/></a>"
      ]
    },
    {
      "cell_type": "code",
      "source": [
        "                                                         \n",
        "                                  .--,-``-.              \n",
        "    ,---,.                       /   /     '.    ,--,    \n",
        "  ,'  .'  \\             ,---,   / ../        ; ,--.'|    \n",
        ",---.' .' |           ,---.'|   \\ ``\\  .`-    '|  | :    \n",
        "|   |  |: |           |   | :    \\___\\/   \\   ::  : '    \n",
        ":   :  :  /  ,--.--.  :   : :         \\   :   ||  ' |    \n",
        ":   |    ;  /       \\ :     |,-.      /  /   / '  | |    \n",
        "|   :     \\.--.  .-. ||   : '  |      \\  \\   \\ |  | :    \n",
        "|   |   . | \\__\\/: . .|   |  / :  ___ /   :   |'  : |__  \n",
        "'   :  '; | ,\" .--.; |'   : |: | /   /\\   /   :|  | '.'| \n",
        "|   |  | ; /  /  ,.  ||   | '/ :/ ,,/  ',-    .;  :    ; \n",
        "|   :   / ;  :   .'   \\   :    |\\ ''\\        ; |  ,   /  \n",
        "|   | ,'  |  ,     .-./    \\  /  \\   \\     .'   ---`-'   \n",
        "`----'     `--`---'   `-'----'    `--`-,,-'              \n",
        ".\n",
        "Results may vary. Godspeed.\n",
        "\n",
        "By: Ben S.\n",
        "\n",
        "\n",
        "A mobile browser friendly audio transcriber and text translator built using txtai\n",
        "---\n",
        "---\n",
        "---\n",
        "Hardware requirements: Ability to open browser and internet\n",
        "  \n",
        "\n",
        "(don't press play on this cell obv)"
      ],
      "metadata": {
        "id": "I9Jp-W4SKboc"
      },
      "execution_count": null,
      "outputs": []
    },
    {
      "cell_type": "markdown",
      "source": [
        "---\n",
        "---\n",
        "---"
      ],
      "metadata": {
        "id": "_33L79RfK-fT"
      }
    },
    {
      "cell_type": "code",
      "source": [
        "#@title Press play and follow the prompts below. This will upload your audio file and convert filetype automatically. Proceed when finished. { display-mode: \"form\" }\n",
        "\n",
        "#@markdown ---\n",
        "\n",
        "from google.colab import files\n",
        "import sys\n",
        "import os\n",
        "import re\n",
        "import IPython\n",
        "from IPython.display import clear_output\n",
        "\n",
        "uploaded = files.upload()\n",
        "filename = next(iter(uploaded))\n",
        "print(uploaded)\n",
        "for fn in uploaded.keys():\n",
        "  print('User uploaded file \"{name}\" with length {length} bytes'.format(\n",
        "      name=fn, length=len(uploaded[fn])))\n",
        "  \n",
        "#converting to 16khz .wav from input\n",
        "!ffmpeg -i $filename -acodec pcm_s16le -ac 1 -ar 16000 out.wav\n",
        "\n",
        "final_wav = 'out.wav'\n",
        "\n",
        "\n",
        "#installing and initializing transcription and translation\n",
        "\n",
        "!pip install git+https://github.com/neuml/txtai#egg=txtai[pipeline]\n",
        "\n",
        "clear_output()\n",
        "from txtai.pipeline import Transcription\n",
        "from txtai.pipeline import Translation\n",
        "\n",
        "# Create transcription model\n",
        "transcribe = Transcription(\"facebook/wav2vec2-large-960h\")\n",
        "# Create translation model\n",
        "translate = Translation()\n",
        "clear_output()\n",
        "\n",
        "\n"
      ],
      "metadata": {
        "id": "KJzbtfMp0Wnq"
      },
      "execution_count": null,
      "outputs": []
    },
    {
      "cell_type": "code",
      "metadata": {
        "id": "-K2YJJzsVtfq"
      },
      "source": [
        "#@title Please input the two letter language code for your desired translation output. { display-mode: \"form\" }\n",
        "#@markdown Example: es for Espanol. \n",
        "from IPython.display import Audio, display\n",
        "\n",
        "text = transcribe(\"out.wav\")\n",
        "Language = \"\" #@param {type: \"string\"}\n",
        "translated = translate(text, Language)\n",
        "\n",
        "clear_output()\n",
        "\n",
        "\n",
        "\n",
        "\n",
        "\n",
        "print('---------------------------------------------------------------')\n",
        "print('---------------------------------------------------------------')\n",
        "print('---------------------------------------------------------------')\n",
        "\n",
        "\n",
        "\n",
        "display(Audio(\"out.wav\"))\n",
        "print('---------------------------------------------------------------')\n",
        "print('---------------------------------------------------------------')\n",
        "print('---------------------------------------------------------------')\n",
        "\n",
        "print('Transcription:')\n",
        "print('---------------------------------------------------------------')\n",
        "\n",
        "print(text)\n",
        "print('---------------------------------------------------------------')\n",
        "print('---------------------------------------------------------------')\n",
        "print('---------------------------------------------------------------')\n",
        "print('Translated Text:')\n",
        "print('---------------------------------------------------------------')\n",
        "print(translated)\n",
        "print('---------------------------------------------------------------')\n",
        "print('---------------------------------------------------------------')\n",
        "print('---------------------------------------------------------------')\n",
        "print('---------------------------------------------------------------')\n",
        "print('---------------------------------------------------------------')\n",
        "\n",
        "\n"
      ],
      "execution_count": null,
      "outputs": []
    },
    {
      "cell_type": "code",
      "source": [
        "#@title Press Play to download .txt file of transcription and translation to your device.\n",
        "#@markdown This is recommended as translations are lost after browser closes. { display-mode: \"form\" }\n",
        "with open('translated.txt', 'w') as f:\n",
        "  f.write('Original:\\n')\n",
        "  f.write(text + \"\\n\")\n",
        "  f.write('Translated:\\n')\n",
        "  f.write(translated)\n",
        "\n",
        "\n",
        "files.download('translated.txt')\n"
      ],
      "metadata": {
        "cellView": "form",
        "id": "9BRW5s5hOeFP"
      },
      "execution_count": null,
      "outputs": []
    },
    {
      "cell_type": "markdown",
      "source": [
        "---\n",
        "---\n",
        "---\n",
        "Shoutout to txtai (https://github.com/neuml/txtai)"
      ],
      "metadata": {
        "id": "S4p6Hd9dDU63"
      }
    }
  ]
}